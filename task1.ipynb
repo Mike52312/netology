{
  "nbformat": 4,
  "nbformat_minor": 0,
  "metadata": {
    "colab": {
      "provenance": [],
      "mount_file_id": "1G1QiItQfY7ZvW75RQzYM02KtYb390RCl",
      "authorship_tag": "ABX9TyNFhHr6snpD4T/26LE5uWG8",
      "include_colab_link": true
    },
    "kernelspec": {
      "name": "python3",
      "display_name": "Python 3"
    },
    "language_info": {
      "name": "python"
    }
  },
  "cells": [
    {
      "cell_type": "markdown",
      "metadata": {
        "id": "view-in-github",
        "colab_type": "text"
      },
      "source": [
        "<a href=\"https://colab.research.google.com/github/Mike52312/netology/blob/main/task1.ipynb\" target=\"_parent\"><img src=\"https://colab.research.google.com/assets/colab-badge.svg\" alt=\"Open In Colab\"/></a>"
      ]
    },
    {
      "cell_type": "code",
      "execution_count": 1,
      "metadata": {
        "id": "IC9gVf0R4vW3",
        "colab": {
          "base_uri": "https://localhost:8080/"
        },
        "outputId": "ffa8487d-aa84-4886-9efc-dfe6b5dced8b"
      },
      "outputs": [
        {
          "output_type": "stream",
          "name": "stdout",
          "text": [
            "10 арбузов\n"
          ]
        }
      ],
      "source": [
        "a=10\n",
        "print(a, 'арбузов')"
      ]
    }
  ]
}